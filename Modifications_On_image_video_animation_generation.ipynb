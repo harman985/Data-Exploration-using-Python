{
  "nbformat": 4,
  "nbformat_minor": 0,
  "metadata": {
    "colab": {
      "provenance": [],
      "include_colab_link": true
    },
    "kernelspec": {
      "name": "python3",
      "display_name": "Python 3"
    },
    "language_info": {
      "name": "python"
    }
  },
  "cells": [
    {
      "cell_type": "markdown",
      "metadata": {
        "id": "view-in-github",
        "colab_type": "text"
      },
      "source": [
        "<a href=\"https://colab.research.google.com/github/harman985/Data-Exploration-using-Python/blob/main/Modifications_On_image_video_animation_generation.ipynb\" target=\"_parent\"><img src=\"https://colab.research.google.com/assets/colab-badge.svg\" alt=\"Open In Colab\"/></a>"
      ]
    },
    {
      "cell_type": "markdown",
      "source": [
        "# **TITLE** : **GENERATION OF IMAGES/VIDEOS/GIFs USING REPLICATE API**\n",
        "\n",
        "\n",
        "\n",
        "\n",
        "# **Brief description of the Project scope :**\n",
        "\n",
        "The goal of this project is to generate images/videos/GIFs using Replicate API, using this API we can generate and show the images/videos on the google colab notebook\n",
        "\n",
        "\n"
      ],
      "metadata": {
        "id": "ZWRrPYjU-FnH"
      }
    },
    {
      "cell_type": "markdown",
      "source": [
        "# **Group Members :**\n",
        "\n",
        "\n",
        "* Ayushi - 4348493\n",
        "* Harmanpreet Kaur - 4346834"
      ],
      "metadata": {
        "id": "8ugcCz4l9POS"
      }
    },
    {
      "cell_type": "markdown",
      "source": [
        "# **Detailed Project Description Cell**\n",
        "\n",
        "Replicate's API for generating images, videos, and GIFs from text descriptions is exceptionally potent. This capability expands the realm of inventive expression and investigation.\n",
        "\n",
        "Replicate facilitates the following operations:\n",
        "\n",
        "1) Stunning images and paintings can be created using simple phrase suggestions as inspiration. Imagine creating a digital painting of an awe-inspiring waterfall amidst a verdant forest, or an eccentric metropolis adorned with towering structures that defy the forces of gravity.\n",
        "\n",
        "2) Construct enthralling cinematic works that materialize your concepts. Replicate enables users to manifest their visual narrative ambitions, be it an AI-coordinated dance routine or a film scene unfolding before their eyes. Create visually captivating GIFs that encapsulate the essence of movement and feeling. A humorous animation of a cartoon character or a mesmerizing loop of a celestial night sky with scintillating stars are both worthy of contemplation.\n",
        "\n",
        "\n",
        "## **Objectives** :\n",
        "\n",
        "- Illustrate the adaptability of the Replicate API with respect to producing a multitude of visual formats.\n",
        "\n",
        "- Investigate the imaginative potential of image and video generation powered by AI.\n",
        "\n",
        "- Produce an assemblage of distinct and captivating visuals, videos, and GIFs.\n",
        "\n",
        "\n",
        "\n",
        "\n",
        "## **Outcomes**\n",
        "\n",
        "- A collection of visually appealing photos, films, and GIFs created using Replicate's API.\n",
        "\n",
        "- Improved comprehension of the creative uses of AI-powered picture and video production.\n",
        "\n",
        "- Demonstration of Replicate's API's possibilities for creative expression and discovery.\n",
        "\n",
        "\n",
        "\n",
        "\n",
        "\n",
        "\n",
        "\n",
        "\n",
        "\n",
        "\n",
        "\n"
      ],
      "metadata": {
        "id": "SJNvsyvv-jM1"
      }
    },
    {
      "cell_type": "markdown",
      "source": [
        "# **Modification/New Addition Specification**\n",
        "\n",
        "Modification/new specification cell that includes the installation of Replicate using Python, exporting the Replicate API, generating an image, displaying the image, generating a video, and displaying the video\n",
        "\n",
        "## **Impact**\n",
        "\n",
        "the modification/new specification cell provides a comprehensive and practical approach to generating images and videos using the Replicate API. It empowers you to explore your creativity, produce high-quality visual content, and share your creations with the world. The ability to generate images and videos directly from text prompts democratizes the creative process, making it accessible to a wider audience, including those without prior experience in digital art or video production. The modification/new specification cell serves as a stepping stone for further exploration and experimentation with the Replicate API, paving the way for innovative applications in various fields.\n",
        "\n",
        "\n",
        "\n"
      ],
      "metadata": {
        "id": "DDwC-cRK2C_x"
      }
    },
    {
      "cell_type": "markdown",
      "source": [
        "# **Criteria-Specific Cell**\n",
        "\n",
        "## Relevance\n",
        "\n",
        "* Alignment with project objectives\n",
        "* Appropriateness for target audience\n",
        "* Contribution to project goals\n",
        "\n",
        "## Innovation\n",
        "\n",
        "* Originality and creativity\n",
        "* Novelty and uniqueness\n",
        "* Potential for impact\n",
        "\n",
        "## Technical Skills\n",
        "\n",
        "* Effective use of Replicate API\n",
        "* Appropriate model selection\n",
        "* Efficient and optimized code\n",
        "* Effective handling of errors and exceptions\n",
        "* Adequate documentation and comments\n",
        "\n",
        "\n"
      ],
      "metadata": {
        "id": "6cfvQgVYFl6W"
      }
    },
    {
      "cell_type": "markdown",
      "source": [
        "# 1) **Installation of Replicate using Python**:\n",
        "\n",
        "Installing the Replicate library using pip gives you access to the Replicate API, which is a powerful tool for generating images and videos from text prompts. This allows you to create a wide variety of creative content without the need for specialized skills or software.*italicized text*\n",
        "\n",
        "\n",
        "\n"
      ],
      "metadata": {
        "id": "vKzL0U3a6wlx"
      }
    },
    {
      "cell_type": "code",
      "execution_count": null,
      "metadata": {
        "colab": {
          "base_uri": "https://localhost:8080/"
        },
        "id": "CjlbJnxO2w-h",
        "outputId": "4faa873c-aa8a-4724-ac48-b537fadb2a06"
      },
      "outputs": [
        {
          "output_type": "stream",
          "name": "stdout",
          "text": [
            "Collecting replicate\n",
            "  Downloading replicate-0.21.0-py3-none-any.whl (34 kB)\n",
            "Collecting httpx<1,>=0.21.0 (from replicate)\n",
            "  Downloading httpx-0.25.2-py3-none-any.whl (74 kB)\n",
            "\u001b[2K     \u001b[90m━━━━━━━━━━━━━━━━━━━━━━━━━━━━━━━━━━━━━━━━\u001b[0m \u001b[32m75.0/75.0 kB\u001b[0m \u001b[31m3.5 MB/s\u001b[0m eta \u001b[36m0:00:00\u001b[0m\n",
            "\u001b[?25hRequirement already satisfied: packaging in /usr/local/lib/python3.10/dist-packages (from replicate) (23.2)\n",
            "Requirement already satisfied: pydantic>1 in /usr/local/lib/python3.10/dist-packages (from replicate) (1.10.13)\n",
            "Requirement already satisfied: typing-extensions>=4.5.0 in /usr/local/lib/python3.10/dist-packages (from replicate) (4.5.0)\n",
            "Requirement already satisfied: anyio in /usr/local/lib/python3.10/dist-packages (from httpx<1,>=0.21.0->replicate) (3.7.1)\n",
            "Requirement already satisfied: certifi in /usr/local/lib/python3.10/dist-packages (from httpx<1,>=0.21.0->replicate) (2023.11.17)\n",
            "Collecting httpcore==1.* (from httpx<1,>=0.21.0->replicate)\n",
            "  Downloading httpcore-1.0.2-py3-none-any.whl (76 kB)\n",
            "\u001b[2K     \u001b[90m━━━━━━━━━━━━━━━━━━━━━━━━━━━━━━━━━━━━━━━━\u001b[0m \u001b[32m76.9/76.9 kB\u001b[0m \u001b[31m9.3 MB/s\u001b[0m eta \u001b[36m0:00:00\u001b[0m\n",
            "\u001b[?25hRequirement already satisfied: idna in /usr/local/lib/python3.10/dist-packages (from httpx<1,>=0.21.0->replicate) (3.6)\n",
            "Requirement already satisfied: sniffio in /usr/local/lib/python3.10/dist-packages (from httpx<1,>=0.21.0->replicate) (1.3.0)\n",
            "Collecting h11<0.15,>=0.13 (from httpcore==1.*->httpx<1,>=0.21.0->replicate)\n",
            "  Downloading h11-0.14.0-py3-none-any.whl (58 kB)\n",
            "\u001b[2K     \u001b[90m━━━━━━━━━━━━━━━━━━━━━━━━━━━━━━━━━━━━━━━━\u001b[0m \u001b[32m58.3/58.3 kB\u001b[0m \u001b[31m7.5 MB/s\u001b[0m eta \u001b[36m0:00:00\u001b[0m\n",
            "\u001b[?25hRequirement already satisfied: exceptiongroup in /usr/local/lib/python3.10/dist-packages (from anyio->httpx<1,>=0.21.0->replicate) (1.2.0)\n",
            "Installing collected packages: h11, httpcore, httpx, replicate\n",
            "Successfully installed h11-0.14.0 httpcore-1.0.2 httpx-0.25.2 replicate-0.21.0\n"
          ]
        }
      ],
      "source": [
        "# @title Install Replicate\n",
        "!pip install replicate\n"
      ]
    },
    {
      "cell_type": "markdown",
      "source": [
        "# 2) Importing Replicate API:\n",
        "\n",
        "Importing the Replicate API allows your code to interact with the Replicate platform, enabling you to send text prompts, receive generated content, and manage your API usage.\n",
        "\n",
        "# 3) Setting Replicate API Key:\n",
        "\n",
        "Setting your Replicate API key authenticates your requests and ensures that you are authorized to use the API. This protects the API from unauthorized access and prevents misuse.\n",
        "\n"
      ],
      "metadata": {
        "id": "-EtGiSrD69zX"
      }
    },
    {
      "cell_type": "code",
      "source": [
        "API = \"r8_FayxDxnliHKdlSgqIpRmZhV9btmE4rW3TD3An\"\n",
        "import os\n",
        "\n",
        "os.environ[\"REPLICATE_API_TOKEN\"] = API #find it here: https://replicate.com/signin?next=/account/api-tokens\n"
      ],
      "metadata": {
        "id": "zX0YyZI_3dx6"
      },
      "execution_count": null,
      "outputs": []
    },
    {
      "cell_type": "markdown",
      "source": [
        "# 4) **Defining Text Prompts for Image and Video Generation**:\n",
        "\n",
        "Defining text prompts is the starting point for the creative process. These prompts provide the AI models with a clear understanding of what you want to generate, allowing them to produce relevant and visually appealing output.\n",
        "\n"
      ],
      "metadata": {
        "id": "sH5YFxFX7NVP"
      }
    },
    {
      "cell_type": "code",
      "source": [
        "# @title Generate Image\n",
        "prompt = \"fish swimming in sky\"\n",
        "import replicate\n",
        "\n",
        "output = replicate.run(\n",
        "  \"stability-ai/stable-diffusion:27b93a2413e7f36cd83da926f3656280b2931564ff050bf9575f1fdf9bcd7478\",\n",
        "  input={\"prompt\":prompt}\n",
        ")\n",
        "\n",
        "output"
      ],
      "metadata": {
        "colab": {
          "base_uri": "https://localhost:8080/"
        },
        "id": "b9jB54-K3p48",
        "outputId": "af669717-4221-4981-d98a-dc7fcabaf509"
      },
      "execution_count": null,
      "outputs": [
        {
          "output_type": "execute_result",
          "data": {
            "text/plain": [
              "['https://replicate.delivery/pbxt/ReEq5TQlBJVzJSLfVi0DiNUzs6spCLnGq7g3v7KBURRN4hejA/out-0.png']"
            ]
          },
          "metadata": {},
          "execution_count": 3
        }
      ]
    },
    {
      "cell_type": "markdown",
      "source": [
        "# 5) Generating Image from Text Prompt\n",
        "\n",
        "Generating an image from a text prompt using the diffusion_beta model enables you to create digital art, illustrations, and other visual representations of your ideas. The diffusion_beta model is a powerful tool for producing high-quality images with intricate details and realistic textures.\n",
        "\n",
        "\n",
        "\n"
      ],
      "metadata": {
        "id": "kw6QYycd7SVR"
      }
    },
    {
      "cell_type": "code",
      "source": [
        "\n",
        "from IPython.display import Image\n",
        "output_image = output\n",
        "Image(url=output_image[0])"
      ],
      "metadata": {
        "colab": {
          "base_uri": "https://localhost:8080/",
          "height": 533
        },
        "id": "7JWCVDHf3sYu",
        "outputId": "837812d0-0407-4fcb-ac9a-2a00b4e0e0f7"
      },
      "execution_count": null,
      "outputs": [
        {
          "output_type": "execute_result",
          "data": {
            "text/html": [
              "<img src=\"https://replicate.delivery/pbxt/ReEq5TQlBJVzJSLfVi0DiNUzs6spCLnGq7g3v7KBURRN4hejA/out-0.png\"/>"
            ],
            "text/plain": [
              "<IPython.core.display.Image object>"
            ]
          },
          "metadata": {},
          "execution_count": 4
        }
      ]
    },
    {
      "cell_type": "markdown",
      "source": [
        "# 6) Generating Video from Text Prompt\n",
        "\n",
        "Generating a video from a text prompt using the diffusion_video model opens up a world of possibilities for creating animated content, storytelling, and visual effects. The diffusion_video model empowers you to bring your imagination to life through the medium of motion.\n"
      ],
      "metadata": {
        "id": "U4dvFuOo7oxG"
      }
    },
    {
      "cell_type": "code",
      "source": [
        "# @title Video/gif/animation/Generation\n",
        "import replicate\n",
        "\n",
        "output = replicate.run(\n",
        "    \"andreasjansson/stable-diffusion-animation:ca1f5e306e5721e19c473e0d094e6603f0456fe759c10715fcd6c1b79242d4a5\",\n",
        "    input={\n",
        "        \"prompt_start\": \"fish swimming in sky\",\n",
        "        \"prompt_end\": \"fish falling from sky\",\n",
        "        \"output_format\": \"gif\",\n",
        "        \"gif_ping_pong\": True\n",
        "    }\n",
        ")\n",
        "\n",
        "output\n"
      ],
      "metadata": {
        "colab": {
          "base_uri": "https://localhost:8080/"
        },
        "id": "6Owfxz0V3uov",
        "outputId": "fc5b655f-416d-49dd-9c46-3ea7294bcac6"
      },
      "execution_count": null,
      "outputs": [
        {
          "output_type": "execute_result",
          "data": {
            "text/plain": [
              "<generator object Prediction.output_iterator at 0x7ef525299e70>"
            ]
          },
          "metadata": {},
          "execution_count": 5
        }
      ]
    },
    {
      "cell_type": "markdown",
      "source": [
        "# 7) Saving Generated Video to File\n",
        "\n",
        "Saving the generated video to a file allows you to preserve your creative work, share it with others, and use it in various applications. This flexibility makes the Replicate API a valuable tool for content creation and distribution.\n",
        "\n",
        "\n",
        "\n"
      ],
      "metadata": {
        "id": "5G1iqzb-76Jo"
      }
    },
    {
      "cell_type": "code",
      "source": [
        "# @title generate video\n",
        "for item in output:\n",
        "     #https://replicate.com/andreasjansson/stable-diffusion-animation/versions/ca1f5e306e5721e19c473e0d094e6603f0456fe759c10715fcd6c1b79242d4a5/api#output-schema\n",
        "    print(item)"
      ],
      "metadata": {
        "colab": {
          "base_uri": "https://localhost:8080/"
        },
        "id": "1bkyp74E3wcl",
        "outputId": "76c02467-f99a-4a47-9976-607709fa0c89"
      },
      "execution_count": null,
      "outputs": [
        {
          "output_type": "stream",
          "name": "stdout",
          "text": [
            "https://replicate.delivery/pbxt/4fsYmuBpC2UWNqIeF1T6mfO0R0BXJIsEGfNPQYy4LvtAxH6HB/video.gif\n"
          ]
        }
      ]
    },
    {
      "cell_type": "markdown",
      "source": [
        "# 8) Displaying Generated Video\n",
        "\n",
        "Displaying the saved video allows you to review your work, enjoy the results of your creative process, and showcase your video storytelling skills. The ability to visualize and share your generated videos enhances the overall impact of the Replicate API.\n",
        "\n"
      ],
      "metadata": {
        "id": "WK4etb_78Jq2"
      }
    },
    {
      "cell_type": "code",
      "source": [
        "\n",
        "# @title get the video on colab\n",
        "gif_url= item[0:len(item)]"
      ],
      "metadata": {
        "id": "exOI3-Rd3yn8"
      },
      "execution_count": null,
      "outputs": []
    },
    {
      "cell_type": "code",
      "source": [
        "# @title Show the video\n",
        "import requests\n",
        "from IPython.display import display, Image\n",
        "from PIL import Image as PILImage\n",
        "from io import BytesIO\n",
        "response = requests.get(gif_url)\n",
        "if response.status_code == 200:\n",
        "    # To Ddisplay the GIF in the notebook\n",
        "    display(Image(url=gif_url))\n",
        "\n",
        "    # To save the GIF in the Colab environment\n",
        "    with open(\"gif_output.gif\", \"wb\") as f:\n",
        "        f.write(response.content)\n",
        "\n",
        "    # TO show a saved GIF using PIL\n",
        "    saved_gif = PILImage.open(\"gif_output.gif\")\n",
        "    saved_gif.show()\n",
        "else:\n",
        "    print(\"Failed to fetch GIF\")\n"
      ],
      "metadata": {
        "colab": {
          "base_uri": "https://localhost:8080/",
          "height": 533
        },
        "id": "whx-a5Ne319x",
        "outputId": "8b2b5e79-a47f-4e96-930e-e43242a728e9"
      },
      "execution_count": null,
      "outputs": [
        {
          "output_type": "display_data",
          "data": {
            "text/html": [
              "<img src=\"https://replicate.delivery/pbxt/4fsYmuBpC2UWNqIeF1T6mfO0R0BXJIsEGfNPQYy4LvtAxH6HB/video.gif\"/>"
            ],
            "text/plain": [
              "<IPython.core.display.Image object>"
            ]
          },
          "metadata": {}
        }
      ]
    },
    {
      "cell_type": "markdown",
      "source": [
        "# **REFERENCES**\n",
        "\n",
        "* Turna GitHub - turna1/GenAI: Here, we focus on educating and enlightening the community about various Generative AI models through hands-on coding tutorials and informative articles. https://github.com/turna1/GenAI\n",
        "\n",
        "* Replicate Tokens. https://replicate.com/account/api-tokens\n",
        "\n"
      ],
      "metadata": {
        "id": "gdi6nuQbG9U6"
      }
    },
    {
      "cell_type": "markdown",
      "source": [
        "\n",
        "# **VIDEO PRESENTATION LINK**"
      ],
      "metadata": {
        "id": "NnHs-jd0HCvd"
      }
    },
    {
      "cell_type": "markdown",
      "source": [
        "\n",
        "# **Thank You**\n",
        "\n"
      ],
      "metadata": {
        "id": "HyYFTY6SLLok"
      }
    }
  ]
}